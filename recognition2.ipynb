{
 "cells": [
  {
   "cell_type": "code",
   "execution_count": 1,
   "metadata": {},
   "outputs": [],
   "source": [
    "import tensorflow as tf\n",
    "import numpy as np\n",
    "import cv2"
   ]
  },
  {
   "cell_type": "code",
   "execution_count": 2,
   "metadata": {},
   "outputs": [],
   "source": [
    "MEMORY_LIMIT = 1024\n",
    "gpus = tf.config.experimental.list_physical_devices('GPU')\n",
    "if gpus:\n",
    "    try:\n",
    "        tf.config.experimental.set_virtual_device_configuration(gpus[0], [tf\n",
    ".config.experimental.VirtualDeviceConfiguration(memory_limit=MEMORY_LIMIT)])\n",
    "    except RuntimeError as e:\n",
    "        print(e)"
   ]
  },
  {
   "cell_type": "code",
   "execution_count": 3,
   "metadata": {},
   "outputs": [],
   "source": [
    "IMG_SIZE = 32\n",
    "NUM_CLASSES = 5"
   ]
  },
  {
   "cell_type": "markdown",
   "metadata": {},
   "source": [
    "### Define model skeleton"
   ]
  },
  {
   "cell_type": "code",
   "execution_count": 4,
   "metadata": {},
   "outputs": [],
   "source": [
    "def build_model(IMG_SIZE, NUM_CLASSES):\n",
    "    x_input = tf.keras.layers.Input(shape=(IMG_SIZE, IMG_SIZE, 1))\n",
    "    x = tf.keras.layers.Conv2D(32, kernel_size=(3, 3), activation='relu')(x_input)\n",
    "    x = tf.keras.layers.BatchNormalization()(x)\n",
    "    \n",
    "    x = tf.keras.layers.Conv2D(64, kernel_size=(3, 3), activation='relu')(x)\n",
    "    x = tf.keras.layers.BatchNormalization()(x)\n",
    "    x = tf.keras.layers.MaxPool2D(pool_size=(2, 2))(x)\n",
    "    x = tf.keras.layers.Dropout(0.25)(x)\n",
    "    \n",
    "    x = tf.keras.layers.Flatten()(x)\n",
    "    x = tf.keras.layers.Dense(128, activation='relu', use_bias='True', \n",
    "                   kernel_initializer = tf.keras.initializers.VarianceScaling())(x)\n",
    "    x = tf.keras.layers.Dropout(0.5)(x)\n",
    "    x = tf.keras.layers.Dense(NUM_CLASSES, activation='sigmoid', use_bias='False', \n",
    "                   kernel_initializer = tf.keras.initializers.VarianceScaling())(x)\n",
    "\n",
    "    model = tf.keras.Model(inputs=x_input, outputs=x)\n",
    "    model.compile(optimizer='Adam', \n",
    "              loss=tf.keras.losses.categorical_crossentropy,\n",
    "              metrics=['accuracy']\n",
    "             )\n",
    "    return model"
   ]
  },
  {
   "cell_type": "markdown",
   "metadata": {},
   "source": [
    "### Build model"
   ]
  },
  {
   "cell_type": "code",
   "execution_count": 5,
   "metadata": {},
   "outputs": [
    {
     "name": "stdout",
     "output_type": "stream",
     "text": [
      "Model: \"model\"\n",
      "_________________________________________________________________\n",
      "Layer (type)                 Output Shape              Param #   \n",
      "=================================================================\n",
      "input_1 (InputLayer)         [(None, 32, 32, 1)]       0         \n",
      "_________________________________________________________________\n",
      "conv2d (Conv2D)              (None, 30, 30, 32)        320       \n",
      "_________________________________________________________________\n",
      "batch_normalization (BatchNo (None, 30, 30, 32)        128       \n",
      "_________________________________________________________________\n",
      "conv2d_1 (Conv2D)            (None, 28, 28, 64)        18496     \n",
      "_________________________________________________________________\n",
      "batch_normalization_1 (Batch (None, 28, 28, 64)        256       \n",
      "_________________________________________________________________\n",
      "max_pooling2d (MaxPooling2D) (None, 14, 14, 64)        0         \n",
      "_________________________________________________________________\n",
      "dropout (Dropout)            (None, 14, 14, 64)        0         \n",
      "_________________________________________________________________\n",
      "flatten (Flatten)            (None, 12544)             0         \n",
      "_________________________________________________________________\n",
      "dense (Dense)                (None, 128)               1605760   \n",
      "_________________________________________________________________\n",
      "dropout_1 (Dropout)          (None, 128)               0         \n",
      "_________________________________________________________________\n",
      "dense_1 (Dense)              (None, 5)                 645       \n",
      "=================================================================\n",
      "Total params: 1,625,605\n",
      "Trainable params: 1,625,413\n",
      "Non-trainable params: 192\n",
      "_________________________________________________________________\n",
      "None\n"
     ]
    }
   ],
   "source": [
    "model = build_model(IMG_SIZE, NUM_CLASSES)\n",
    "print(model.summary())"
   ]
  },
  {
   "cell_type": "markdown",
   "metadata": {},
   "source": [
    "### splitting train into train and validate"
   ]
  },
  {
   "cell_type": "code",
   "execution_count": 9,
   "metadata": {},
   "outputs": [
    {
     "name": "stdout",
     "output_type": "stream",
     "text": [
      "asl_f : 217 files moved to validate\n",
      "palm : 210 files moved to validate\n",
      "garbage : 82 files moved to validate\n",
      "seven : 240 files moved to validate\n",
      "fist : 229 files moved to validate\n"
     ]
    }
   ],
   "source": [
    "import os\n",
    "import shutil\n",
    "\n",
    "base = 'Gestures/'\n",
    "src = base + 'train/'\n",
    "dest = base + 'validate/'\n",
    "\n",
    "for d in os.listdir(src):\n",
    "    moved = 0\n",
    "    for i in os.listdir(src + d):\n",
    "        if np.random.rand() < 0.05:\n",
    "            shutil.move(src + d + '/' + i, dest + d + '/' + i)\n",
    "            moved += 1\n",
    "    print(d, \": {} files moved to validate\".format(moved))"
   ]
  },
  {
   "cell_type": "code",
   "execution_count": 10,
   "metadata": {},
   "outputs": [],
   "source": [
    "# Moving all files back to train\n",
    "# for d in os.listdir(dest):\n",
    "#     for i in os.listdir(dest + d):\n",
    "#         shutil.move(dest + d + '/' + i, src + d + '/' + i)"
   ]
  },
  {
   "cell_type": "markdown",
   "metadata": {},
   "source": [
    "### Data generation and preprocessing\n",
    "\n",
    "Automatically generate data from directory structure"
   ]
  },
  {
   "cell_type": "code",
   "execution_count": 11,
   "metadata": {},
   "outputs": [
    {
     "name": "stdout",
     "output_type": "stream",
     "text": [
      "Found 18297 images belonging to 5 classes.\n",
      "Found 978 images belonging to 5 classes.\n"
     ]
    }
   ],
   "source": [
    "train_datagen = tf.keras.preprocessing.image.ImageDataGenerator(rescale=1./255)\n",
    "test_datagen = tf.keras.preprocessing.image.ImageDataGenerator(rescale=1./255)\n",
    "\n",
    "train_generator = train_datagen.flow_from_directory(\n",
    "    './Gestures/train',\n",
    "    color_mode='grayscale',\n",
    "    target_size=(IMG_SIZE, IMG_SIZE),\n",
    "    shuffle=True,\n",
    "    batch_size=128,\n",
    "    class_mode='categorical'\n",
    ")\n",
    "\n",
    "validation_generator = test_datagen.flow_from_directory(\n",
    "    './Gestures/validate',\n",
    "    color_mode='grayscale',\n",
    "    target_size=(IMG_SIZE, IMG_SIZE),\n",
    "    shuffle=True,\n",
    "    batch_size=128,\n",
    "    class_mode='categorical'\n",
    ")"
   ]
  },
  {
   "cell_type": "markdown",
   "metadata": {},
   "source": [
    "### Fitting the model"
   ]
  },
  {
   "cell_type": "code",
   "execution_count": 12,
   "metadata": {},
   "outputs": [
    {
     "name": "stdout",
     "output_type": "stream",
     "text": [
      "142 7\n",
      "Epoch 1/10\n",
      "142/142 [==============================] - 97s 686ms/step - loss: 0.1795 - accuracy: 0.9533 - val_loss: 3.2054 - val_accuracy: 0.2132\n",
      "Epoch 2/10\n",
      "142/142 [==============================] - 36s 255ms/step - loss: 0.0381 - accuracy: 0.9905 - val_loss: 6.9133 - val_accuracy: 0.1038\n",
      "Epoch 3/10\n",
      "142/142 [==============================] - 39s 273ms/step - loss: 0.0272 - accuracy: 0.9925 - val_loss: 2.4021 - val_accuracy: 0.5826\n",
      "Epoch 4/10\n",
      "142/142 [==============================] - 40s 283ms/step - loss: 0.0190 - accuracy: 0.9945 - val_loss: 0.1192 - val_accuracy: 0.9643\n",
      "Epoch 5/10\n",
      "142/142 [==============================] - 40s 284ms/step - loss: 0.0117 - accuracy: 0.9965 - val_loss: 0.0552 - val_accuracy: 0.9888\n",
      "Epoch 6/10\n",
      "142/142 [==============================] - 39s 275ms/step - loss: 0.0115 - accuracy: 0.9966 - val_loss: 0.0428 - val_accuracy: 0.9944\n",
      "Epoch 7/10\n",
      "142/142 [==============================] - 39s 276ms/step - loss: 0.0120 - accuracy: 0.9968 - val_loss: 0.0043 - val_accuracy: 0.9978\n",
      "Epoch 8/10\n",
      "142/142 [==============================] - 39s 276ms/step - loss: 0.0180 - accuracy: 0.9966 - val_loss: 2.6913 - val_accuracy: 0.7098\n",
      "Epoch 9/10\n",
      "142/142 [==============================] - 39s 275ms/step - loss: 0.0114 - accuracy: 0.9974 - val_loss: 0.0199 - val_accuracy: 0.9989\n",
      "Epoch 10/10\n",
      "142/142 [==============================] - 39s 278ms/step - loss: 0.0100 - accuracy: 0.9973 - val_loss: 0.0199 - val_accuracy: 0.9989\n"
     ]
    }
   ],
   "source": [
    "STEP_SIZE_TRAIN=train_generator.n // train_generator.batch_size\n",
    "STEP_SIZE_VALID=validation_generator.n // validation_generator.batch_size\n",
    "\n",
    "print(STEP_SIZE_TRAIN, STEP_SIZE_VALID)\n",
    "hist = model.fit(\n",
    "    train_generator,\n",
    "    steps_per_epoch=STEP_SIZE_TRAIN,\n",
    "    epochs=10,\n",
    "    validation_data=validation_generator,\n",
    "    validation_steps=STEP_SIZE_VALID\n",
    ")\n",
    "\n",
    "# model.fit(train_generator, steps_per_epoch=STEP_SIZE_TRAIN, epochs=20)"
   ]
  },
  {
   "cell_type": "code",
   "execution_count": 13,
   "metadata": {},
   "outputs": [
    {
     "name": "stdout",
     "output_type": "stream",
     "text": [
      "WARNING:tensorflow:From /home/kunal/.virtualenvs/cv4/lib/python3.6/site-packages/tensorflow/python/ops/resource_variable_ops.py:1817: calling BaseResourceVariable.__init__ (from tensorflow.python.ops.resource_variable_ops) with constraint is deprecated and will be removed in a future version.\n",
      "Instructions for updating:\n",
      "If using Keras pass *_constraint arguments to layers.\n",
      "INFO:tensorflow:Assets written to: saved_model2/assets\n"
     ]
    }
   ],
   "source": [
    "# model.save('saved_model')\n",
    "model.save('saved_model2')"
   ]
  },
  {
   "cell_type": "markdown",
   "metadata": {},
   "source": [
    "### Learning curve"
   ]
  },
  {
   "cell_type": "code",
   "execution_count": 16,
   "metadata": {},
   "outputs": [
    {
     "data": {
      "image/png": "[encoded data removed]",
      "text/plain": [
       "<Figure size 432x288 with 1 Axes>"
      ]
     },
     "metadata": {
      "needs_background": "light"
     },
     "output_type": "display_data"
    }
   ],
   "source": [
    "from matplotlib import pyplot as plt\n",
    "plt.plot(hist.epoch, hist.history['loss'], label='train')\n",
    "plt.plot(hist.epoch, hist.history['val_loss'], label='validation')\n",
    "plt.xlabel('No. of iterations')\n",
    "plt.ylabel('Loses')\n",
    "plt.xlim(0, len(hist.epoch)+1)\n",
    "plt.legend()\n",
    "plt.show()"
   ]
  }
 ],
 "metadata": {
  "kernelspec": {
   "display_name": "Python 3",
   "language": "python",
   "name": "python3"
  },
  "language_info": {
   "codemirror_mode": {
    "name": "ipython",
    "version": 3
   },
   "file_extension": ".py",
   "mimetype": "text/x-python",
   "name": "python",
   "nbconvert_exporter": "python",
   "pygments_lexer": "ipython3",
   "version": "3.6.9"
  }
 },
 "nbformat": 4,
 "nbformat_minor": 4
}
